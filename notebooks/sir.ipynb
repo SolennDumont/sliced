{
 "cells": [
  {
   "cell_type": "markdown",
   "metadata": {},
   "source": [
    "# SIR with `imreduce`"
   ]
  },
  {
   "cell_type": "markdown",
   "metadata": {},
   "source": [
    "Joshua Loyal, January 2018"
   ]
  },
  {
   "cell_type": "code",
   "execution_count": null,
   "metadata": {
    "collapsed": true
   },
   "outputs": [],
   "source": [
    "import numpy as np\n",
    "np.random.seed(123)\n",
    "\n",
    "%matplotlib inline\n",
    "import matplotlib.pyplot as plt\n",
    "from mpl_toolkits.mplot3d import Axes3D"
   ]
  },
  {
   "cell_type": "markdown",
   "metadata": {},
   "source": [
    "## Problem Statement"
   ]
  },
  {
   "cell_type": "markdown",
   "metadata": {},
   "source": [
    "Consider the model structure:\n",
    "\n",
    "$$\n",
    "Y = m(X^T\\beta_1, \\dots, X^T\\beta_K, \\epsilon)\n",
    "$$\n",
    "\n",
    "where $\\beta_1, \\dots, \\beta_K$ are unknown projection vectors. $K$ is unknown and assumed to be *much* less than $p$. $m$ is an unkown function $\\mathbb{R}^{K + 1} \\rightarrow \\mathbb{R}$, and $\\epsilon$ is a noise random variable with $E(\\epsilon|X) = 0$.\n",
    "\n",
    "The model $m$ is extremely general. It incompasses many common models as special cases:\n",
    "\n",
    "* Linear Model: $K = 1$, Y = $m(X^T\\beta, \\epsilon) = X^T\\beta + \\epsilon$\n",
    "* Generalized Linear Model: $K = 1$, $Y = g(X^T\\beta) + \\epsilon$\n",
    "* Heteroscedastic linear model: $K = 2$, $Y = X^T\\beta_1 + g(X^T\\beta_2) \\epsilon$\n",
    "* Neural networks: $Y = \\sum_{k=1}^K \\alpha_k \\sigma(X^T\\beta_k) + \\epsilon$\n",
    "\n",
    "The goal is to determine the projection vectors."
   ]
  },
  {
   "cell_type": "code",
   "execution_count": null,
   "metadata": {
    "collapsed": true
   },
   "outputs": [],
   "source": [
    "def make_cubic(n_samples=500, n_features=10, n_informative=2):\n",
    "    \"\"\"This dataset can also be generated with imreduce.datasets.make_cubic\"\"\"\n",
    "    # normally distributed features\n",
    "    X = np.random.randn(n_samples, n_features)\n",
    "\n",
    "    # beta is a linear combination of informative features\n",
    "    beta = np.hstack((\n",
    "        np.ones(n_informative), np.zeros(n_features - n_informative)))\n",
    "\n",
    "    # cubic in subspace\n",
    "    y = 0.125 * np.dot(X, beta) ** 3\n",
    "    \n",
    "    # gaussian noise\n",
    "    y += 0.5 * np.random.randn(n_samples)\n",
    "\n",
    "    return X, y\n",
    "\n",
    "X, y = make_cubic()"
   ]
  },
  {
   "cell_type": "code",
   "execution_count": null,
   "metadata": {
    "collapsed": true,
    "scrolled": true
   },
   "outputs": [],
   "source": [
    "ax = plt.axes(projection='3d')\n",
    "ax.view_init(5, 30)\n",
    "ax.scatter(X[:, 0], X[:, 1], y, c=y, cmap='viridis', linewidth=0.5)"
   ]
  },
  {
   "cell_type": "code",
   "execution_count": null,
   "metadata": {
    "collapsed": true
   },
   "outputs": [],
   "source": [
    "ax = plt.axes(projection='3d')\n",
    "ax.view_init(5)\n",
    "ax.scatter(X[:, 0], X[:, 1], y, c=y, cmap='viridis', linewidth=0.5)"
   ]
  },
  {
   "cell_type": "code",
   "execution_count": null,
   "metadata": {
    "collapsed": true
   },
   "outputs": [],
   "source": [
    "from imreduce import SlicedInverseRegression\n",
    "\n",
    "sir = SlicedInverseRegression(n_components=2).fit(X, y)\n",
    "X_sir = sir.transform(X)\n",
    "\n",
    "plt.scatter(X_sir[:, 0], y, c=y, cmap='viridis', linewidth=0.5)"
   ]
  },
  {
   "cell_type": "code",
   "execution_count": null,
   "metadata": {
    "collapsed": true
   },
   "outputs": [],
   "source": []
  }
 ],
 "metadata": {
  "kernelspec": {
   "display_name": "Python 3",
   "language": "python",
   "name": "python3"
  },
  "language_info": {
   "codemirror_mode": {
    "name": "ipython",
    "version": 3
   },
   "file_extension": ".py",
   "mimetype": "text/x-python",
   "name": "python",
   "nbconvert_exporter": "python",
   "pygments_lexer": "ipython3",
   "version": "3.5.2"
  }
 },
 "nbformat": 4,
 "nbformat_minor": 2
}
